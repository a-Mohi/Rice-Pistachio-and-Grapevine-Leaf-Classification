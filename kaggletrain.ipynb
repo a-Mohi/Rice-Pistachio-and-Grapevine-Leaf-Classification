{
 "metadata": {
  "kernelspec": {
   "display_name": "Python 3",
   "language": "python",
   "name": "python3"
  },
  "language_info": {
   "codemirror_mode": {
    "name": "ipython",
    "version": 3
   },
   "file_extension": ".py",
   "mimetype": "text/x-python",
   "name": "python",
   "nbconvert_exporter": "python",
   "pygments_lexer": "ipython3",
   "version": "3.11.13"
  },
  "kaggle": {
   "accelerator": "none",
   "dataSources": [
    {
     "sourceId": 112017,
     "databundleVersionId": 13778912,
     "isSourceIdPinned": false,
     "sourceType": "competition"
    }
   ],
   "dockerImageVersionId": 31089,
   "isInternetEnabled": true,
   "language": "python",
   "sourceType": "notebook",
   "isGpuEnabled": false
  }
 },
 "nbformat_minor": 5,
 "nbformat": 4,
 "cells": [
  {
   "id": "fbc121e30a2defb3",
   "cell_type": "code",
   "source": [
    "from tensorflow.keras.models import Sequential\n",
    "import os\n",
    "import pandas as pd\n",
    "import numpy as np\n",
    "import tensorflow as tf\n",
    "from tensorflow.keras.layers import RandomFlip, RandomRotation, RandomZoom, RandomContrast\n",
    "from tensorflow.keras import Sequential\n",
    "from tensorflow.keras.layers import Dense, Dropout\n",
    "from tensorflow.keras.applications import ResNet50V2"
   ],
   "metadata": {
    "execution": {
     "iopub.status.busy": "2025-09-21T14:44:12.300235Z",
     "iopub.execute_input": "2025-09-21T14:44:12.300502Z",
     "iopub.status.idle": "2025-09-21T14:44:31.337948Z",
     "shell.execute_reply.started": "2025-09-21T14:44:12.300476Z",
     "shell.execute_reply": "2025-09-21T14:44:31.336637Z"
    },
    "trusted": true
   },
   "outputs": [],
   "execution_count": null
  },
  {
   "id": "54e53d2bbe6f20e7",
   "cell_type": "code",
   "source": [
    "data_dir = os.path.join('/kaggle/input/rice-pistachio-and-grapevine-leaf-classification/train', 'train')\n",
    "df = pd.read_csv(\"/kaggle/input/rice-pistachio-and-grapevine-leaf-classification/train.csv\")"
   ],
   "metadata": {
    "execution": {
     "iopub.status.busy": "2025-09-20T02:42:09.799721Z",
     "iopub.execute_input": "2025-09-20T02:42:09.800307Z",
     "iopub.status.idle": "2025-09-20T02:42:09.823943Z",
     "shell.execute_reply.started": "2025-09-20T02:42:09.800281Z",
     "shell.execute_reply": "2025-09-20T02:42:09.823102Z"
    },
    "trusted": true
   },
   "outputs": [],
   "execution_count": null
  },
  {
   "id": "9d7e62028a316429",
   "cell_type": "code",
   "source": "def load_image(image_path, label):\n    img = tf.io.read_file(image_path)\n    img = tf.io.decode_image(img, channels=3)\n    img.set_shape([None, None, 3])\n    img = tf.image.resize(img, (384, 384))\n    img = img/255.0\n\n    return img, label",
   "metadata": {
    "execution": {
     "iopub.status.busy": "2025-09-20T02:42:10.488069Z",
     "iopub.execute_input": "2025-09-20T02:42:10.488517Z",
     "iopub.status.idle": "2025-09-20T02:42:10.492545Z",
     "shell.execute_reply.started": "2025-09-20T02:42:10.488490Z",
     "shell.execute_reply": "2025-09-20T02:42:10.492015Z"
    },
    "trusted": true
   },
   "outputs": [],
   "execution_count": null
  },
  {
   "id": "c598617d779d530e",
   "cell_type": "code",
   "source": "class_names = df['TARGET'].unique()\nclass_to_int = {name: i for i, name in enumerate(class_names)}\nint_to_class = {i: name for i, name in enumerate(class_names)}",
   "metadata": {
    "execution": {
     "iopub.status.busy": "2025-09-20T02:42:11.179737Z",
     "iopub.execute_input": "2025-09-20T02:42:11.180432Z",
     "iopub.status.idle": "2025-09-20T02:42:11.192076Z",
     "shell.execute_reply.started": "2025-09-20T02:42:11.180409Z",
     "shell.execute_reply": "2025-09-20T02:42:11.191437Z"
    },
    "trusted": true
   },
   "outputs": [],
   "execution_count": null
  },
  {
   "id": "a9a00c592bd752d3",
   "cell_type": "code",
   "source": [
    "full_paths = [os.path.join(data_dir, fname) for fname in df['ID'].values]\n",
    "label = df['TARGET'].map(class_to_int).values\n",
    "dataset = tf.data.Dataset.from_tensor_slices((full_paths, label))\n",
    "dataset = dataset.map(load_image)\n",
    "dataset = dataset.shuffle(buffer_size=len(full_paths))"
   ],
   "metadata": {
    "execution": {
     "iopub.status.busy": "2025-09-20T02:42:15.784301Z",
     "iopub.execute_input": "2025-09-20T02:42:15.784535Z",
     "iopub.status.idle": "2025-09-20T02:42:16.886310Z",
     "shell.execute_reply.started": "2025-09-20T02:42:15.784519Z",
     "shell.execute_reply": "2025-09-20T02:42:16.885609Z"
    },
    "trusted": true
   },
   "outputs": [],
   "execution_count": null
  },
  {
   "id": "b0382c44c7928156",
   "cell_type": "code",
   "source": "BATCH_SIZE = 32\nnum_images = 6400\ntrain_size = int(num_images * 0.8)\nval_size = int(num_images * 0.2)\ntrain = dataset.take(train_size)\nval = dataset.skip(train_size).take(val_size)\n\ntrain = train.batch(BATCH_SIZE)\nval = val.batch(BATCH_SIZE)",
   "metadata": {
    "execution": {
     "iopub.status.busy": "2025-09-20T02:42:16.887308Z",
     "iopub.execute_input": "2025-09-20T02:42:16.887558Z",
     "iopub.status.idle": "2025-09-20T02:42:16.902938Z",
     "shell.execute_reply.started": "2025-09-20T02:42:16.887541Z",
     "shell.execute_reply": "2025-09-20T02:42:16.902328Z"
    },
    "trusted": true
   },
   "outputs": [],
   "execution_count": null
  },
  {
   "id": "f92a5d98-2d3b-442b-b9dd-90af5be78fe7",
   "cell_type": "code",
   "source": [
    "data_augmentation = Sequential([\n",
    "    RandomFlip(\"horizontal\"),\n",
    "    RandomRotation(0.2),\n",
    "    RandomZoom(0.2),\n",
    "    RandomContrast(0.2)\n",
    "], name=\"data_augmentation\")"
   ],
   "metadata": {
    "trusted": true,
    "execution": {
     "iopub.status.busy": "2025-09-20T02:42:22.900308Z",
     "iopub.execute_input": "2025-09-20T02:42:22.900987Z",
     "iopub.status.idle": "2025-09-20T02:42:22.924435Z",
     "shell.execute_reply.started": "2025-09-20T02:42:22.900959Z",
     "shell.execute_reply": "2025-09-20T02:42:22.923934Z"
    }
   },
   "outputs": [],
   "execution_count": null
  },
  {
   "id": "1d023ed53025606a",
   "cell_type": "code",
   "source": [
    "pre_trained_model = ResNet50V2(\n",
    "    include_top=False,\n",
    "    weights=\"imagenet\",\n",
    "    input_shape=(384,384,3),\n",
    "    pooling='avg'\n",
    ")\n",
    "\n",
    "pre_trained_model.trainable = True\n",
    "for layer in pre_trained_model.layers[:-20]:\n",
    "    layer.trainable = False"
   ],
   "metadata": {
    "execution": {
     "iopub.status.busy": "2025-09-20T02:42:24.929252Z",
     "iopub.execute_input": "2025-09-20T02:42:24.929522Z",
     "iopub.status.idle": "2025-09-20T02:42:30.740128Z",
     "shell.execute_reply.started": "2025-09-20T02:42:24.929504Z",
     "shell.execute_reply": "2025-09-20T02:42:30.739531Z"
    },
    "trusted": true
   },
   "outputs": [],
   "execution_count": null
  },
  {
   "id": "813b2febb1383a34",
   "cell_type": "code",
   "source": [
    "model = Sequential([\n",
    "    data_augmentation,\n",
    "    pre_trained_model,\n",
    "    Dense(512, activation='relu'),\n",
    "    Dropout(0.4),\n",
    "    Dense(20, activation='softmax')\n",
    "])"
   ],
   "metadata": {
    "execution": {
     "iopub.status.busy": "2025-09-20T02:42:31.056134Z",
     "iopub.execute_input": "2025-09-20T02:42:31.056788Z",
     "iopub.status.idle": "2025-09-20T02:42:31.065290Z",
     "shell.execute_reply.started": "2025-09-20T02:42:31.056766Z",
     "shell.execute_reply": "2025-09-20T02:42:31.064668Z"
    },
    "trusted": true
   },
   "outputs": [],
   "execution_count": null
  },
  {
   "id": "124bc3358e414ff3",
   "cell_type": "code",
   "source": "model.summary()",
   "metadata": {
    "execution": {
     "iopub.status.busy": "2025-09-20T02:42:32.249329Z",
     "iopub.execute_input": "2025-09-20T02:42:32.249913Z",
     "iopub.status.idle": "2025-09-20T02:42:32.267897Z",
     "shell.execute_reply.started": "2025-09-20T02:42:32.249888Z",
     "shell.execute_reply": "2025-09-20T02:42:32.267152Z"
    },
    "trusted": true
   },
   "outputs": [],
   "execution_count": null
  },
  {
   "id": "ee1681dd1ffa377d",
   "cell_type": "code",
   "source": [
    "model.compile(\n",
    "    optimizer=tf.keras.optimizers.AdamW(learning_rate=1e-4),\n",
    "    loss='sparse_categorical_crossentropy',\n",
    "    metrics=['accuracy']\n",
    ")"
   ],
   "metadata": {
    "execution": {
     "iopub.status.busy": "2025-09-20T02:42:38.827287Z",
     "iopub.execute_input": "2025-09-20T02:42:38.828012Z",
     "iopub.status.idle": "2025-09-20T02:42:38.841894Z",
     "shell.execute_reply.started": "2025-09-20T02:42:38.827985Z",
     "shell.execute_reply": "2025-09-20T02:42:38.841051Z"
    },
    "trusted": true
   },
   "outputs": [],
   "execution_count": null
  },
  {
   "id": "2d5f7358-b4f5-4c87-b181-229606d7b332",
   "cell_type": "code",
   "source": [
    "from tensorflow.keras.callbacks import EarlyStopping, ReduceLROnPlateau\n",
    "\n",
    "early_stopping = EarlyStopping(\n",
    "    monitor='val_loss',\n",
    "    patience=5,\n",
    "    restore_best_weights=True\n",
    ")\n",
    "\n",
    "reduce_lr = ReduceLROnPlateau(\n",
    "    monitor='val_loss',\n",
    "    factor=0.2,\n",
    "    patience=2\n",
    ")"
   ],
   "metadata": {
    "trusted": true,
    "execution": {
     "iopub.status.busy": "2025-09-20T02:42:42.682602Z",
     "iopub.execute_input": "2025-09-20T02:42:42.682897Z",
     "iopub.status.idle": "2025-09-20T02:42:42.689574Z",
     "shell.execute_reply.started": "2025-09-20T02:42:42.682876Z",
     "shell.execute_reply": "2025-09-20T02:42:42.689063Z"
    }
   },
   "outputs": [],
   "execution_count": null
  },
  {
   "id": "15c982cb19822e91",
   "cell_type": "code",
   "source": [
    "resnet = model.fit(\n",
    "    train,\n",
    "    epochs=50,\n",
    "    validation_data=val,\n",
    "    callbacks=[early_stopping, reduce_lr]\n",
    ")"
   ],
   "metadata": {
    "execution": {
     "iopub.status.busy": "2025-09-20T04:14:58.849419Z",
     "iopub.execute_input": "2025-09-20T04:14:58.850132Z",
     "iopub.status.idle": "2025-09-20T04:18:39.020954Z",
     "shell.execute_reply.started": "2025-09-20T04:14:58.850107Z",
     "shell.execute_reply": "2025-09-20T04:18:39.020169Z"
    },
    "trusted": true,
    "jupyter": {
     "is_executing": true
    }
   },
   "outputs": [],
   "execution_count": null
  },
  {
   "id": "2147714c-2867-4c5c-8ea0-ce9b20d5fa1b",
   "cell_type": "code",
   "source": [
    "test_dir = '/kaggle/input/rice-pistachio-and-grapevine-leaf-classification/test/test'\n",
    "test_filepaths = sorted([os.path.join(test_dir, fname) for fname in os.listdir(test_dir)])\n",
    "\n",
    "def load_test(filepath):\n",
    "    img = tf.io.read_file(filepath)\n",
    "    img = tf.io.decode_image(img, channels=3)\n",
    "    img.set_shape([None, None, 3])\n",
    "    img = tf.image.resize(img, (256, 256))\n",
    "    img = img / 255.0\n",
    "    return img\n",
    "\n",
    "test_ds = tf.data.Dataset.from_tensor_slices(test_filepaths)\n",
    "test_ds = test_ds.map(load_test).batch(32)\n",
    "\n",
    "predictions = model.predict(test_ds, verbose=1)\n",
    "predicted_class_indices = np.argmax(predictions, axis=1)\n",
    "predicted_labels = [int_to_class[i] for i in predicted_class_indices]\n",
    "file_names = [os.path.basename(p) for p in test_filepaths]\n",
    "submission_df = pd.DataFrame({\n",
    "    'ID': file_names,\n",
    "    'TARGET': predicted_labels\n",
    "})\n",
    "\n",
    "submission_df.to_csv('submission.csv', index=False)\n",
    "submission_df.head()"
   ],
   "metadata": {
    "trusted": true,
    "execution": {
     "iopub.status.busy": "2025-09-20T03:19:44.419870Z",
     "iopub.execute_input": "2025-09-20T03:19:44.420597Z",
     "iopub.status.idle": "2025-09-20T03:19:51.685645Z",
     "shell.execute_reply.started": "2025-09-20T03:19:44.420572Z",
     "shell.execute_reply": "2025-09-20T03:19:51.685081Z"
    }
   },
   "outputs": [],
   "execution_count": null
  }
 ]
}
