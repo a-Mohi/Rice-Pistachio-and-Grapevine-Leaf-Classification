{
 "cells": [
  {
   "cell_type": "code",
   "id": "96c45afe",
   "metadata": {
    "execution": {
     "iopub.execute_input": "2025-10-03T12:18:44.348384Z",
     "iopub.status.busy": "2025-10-03T12:18:44.348175Z",
     "iopub.status.idle": "2025-10-03T12:18:59.186967Z",
     "shell.execute_reply": "2025-10-03T12:18:59.186309Z"
    },
    "papermill": {
     "duration": 14.844187,
     "end_time": "2025-10-03T12:18:59.188484",
     "exception": false,
     "start_time": "2025-10-03T12:18:44.344297",
     "status": "completed"
    },
    "tags": []
   },
   "source": [
    "from tensorflow.keras.models import Sequential\n",
    "import os\n",
    "import pandas as pd\n",
    "import numpy as np\n",
    "import tensorflow as tf\n",
    "from tensorflow.keras.layers import RandomFlip, RandomRotation, RandomZoom, RandomContrast\n",
    "from tensorflow.keras import Sequential\n",
    "from tensorflow.keras.layers import Dense, Dropout\n",
    "from tensorflow.keras.applications import ResNet50V2"
   ],
   "outputs": [],
   "execution_count": null
  },
  {
   "cell_type": "code",
   "execution_count": 2,
   "id": "44d6a074",
   "metadata": {
    "execution": {
     "iopub.execute_input": "2025-10-03T12:18:59.195279Z",
     "iopub.status.busy": "2025-10-03T12:18:59.194461Z",
     "iopub.status.idle": "2025-10-03T12:18:59.211575Z",
     "shell.execute_reply": "2025-10-03T12:18:59.211075Z"
    },
    "papermill": {
     "duration": 0.021279,
     "end_time": "2025-10-03T12:18:59.212666",
     "exception": false,
     "start_time": "2025-10-03T12:18:59.191387",
     "status": "completed"
    },
    "tags": []
   },
   "outputs": [],
   "source": [
    "data_dir = os.path.join('/kaggle/input/rice-pistachio-and-grapevine-leaf-classification/train', 'train')\n",
    "df = pd.read_csv(\"/kaggle/input/rice-pistachio-and-grapevine-leaf-classification/train.csv\")"
   ]
  },
  {
   "cell_type": "code",
   "execution_count": 3,
   "id": "97304b58",
   "metadata": {
    "execution": {
     "iopub.execute_input": "2025-10-03T12:18:59.218679Z",
     "iopub.status.busy": "2025-10-03T12:18:59.218318Z",
     "iopub.status.idle": "2025-10-03T12:18:59.222143Z",
     "shell.execute_reply": "2025-10-03T12:18:59.221521Z"
    },
    "papermill": {
     "duration": 0.00808,
     "end_time": "2025-10-03T12:18:59.223199",
     "exception": false,
     "start_time": "2025-10-03T12:18:59.215119",
     "status": "completed"
    },
    "tags": []
   },
   "outputs": [],
   "source": [
    "def load_image(image_path, label):\n",
    "    img = tf.io.read_file(image_path)\n",
    "    img = tf.io.decode_image(img, channels=3)\n",
    "    img.set_shape([None, None, 3])\n",
    "    img = tf.image.resize(img, (256, 256))\n",
    "    img = img/255.0\n",
    "\n",
    "    return img, label"
   ]
  },
  {
   "cell_type": "code",
   "execution_count": 4,
   "id": "a0490292",
   "metadata": {
    "execution": {
     "iopub.execute_input": "2025-10-03T12:18:59.229102Z",
     "iopub.status.busy": "2025-10-03T12:18:59.228560Z",
     "iopub.status.idle": "2025-10-03T12:18:59.237151Z",
     "shell.execute_reply": "2025-10-03T12:18:59.236563Z"
    },
    "papermill": {
     "duration": 0.012672,
     "end_time": "2025-10-03T12:18:59.238195",
     "exception": false,
     "start_time": "2025-10-03T12:18:59.225523",
     "status": "completed"
    },
    "tags": []
   },
   "outputs": [],
   "source": [
    "class_names = df['TARGET'].unique()\n",
    "class_to_int = {name: i for i, name in enumerate(class_names)}\n",
    "int_to_class = {i: name for i, name in enumerate(class_names)}"
   ]
  },
  {
   "cell_type": "code",
   "id": "fd552bd0",
   "metadata": {
    "execution": {
     "iopub.execute_input": "2025-10-03T12:18:59.243345Z",
     "iopub.status.busy": "2025-10-03T12:18:59.243166Z",
     "iopub.status.idle": "2025-10-03T12:19:00.085858Z",
     "shell.execute_reply": "2025-10-03T12:19:00.085075Z"
    },
    "papermill": {
     "duration": 0.846939,
     "end_time": "2025-10-03T12:19:00.087352",
     "exception": false,
     "start_time": "2025-10-03T12:18:59.240413",
     "status": "completed"
    },
    "tags": []
   },
   "source": [
    "full_paths = [os.path.join(data_dir, fname) for fname in df['ID'].values]\n",
    "label = df['TARGET'].map(class_to_int).values\n",
    "dataset = tf.data.Dataset.from_tensor_slices((full_paths, label))\n",
    "dataset = dataset.map(load_image)\n",
    "dataset = dataset.shuffle(buffer_size=len(full_paths))"
   ],
   "outputs": [],
   "execution_count": null
  },
  {
   "cell_type": "code",
   "execution_count": 6,
   "id": "993e8f78",
   "metadata": {
    "execution": {
     "iopub.execute_input": "2025-10-03T12:19:00.093283Z",
     "iopub.status.busy": "2025-10-03T12:19:00.093078Z",
     "iopub.status.idle": "2025-10-03T12:19:00.106495Z",
     "shell.execute_reply": "2025-10-03T12:19:00.105918Z"
    },
    "papermill": {
     "duration": 0.017456,
     "end_time": "2025-10-03T12:19:00.107578",
     "exception": false,
     "start_time": "2025-10-03T12:19:00.090122",
     "status": "completed"
    },
    "tags": []
   },
   "outputs": [],
   "source": [
    "BATCH_SIZE = 32\n",
    "num_images = 6400\n",
    "train_size = int(num_images * 0.8)\n",
    "val_size = int(num_images * 0.2)\n",
    "train = dataset.take(train_size)\n",
    "val = dataset.skip(train_size).take(val_size)\n",
    "\n",
    "train = train.batch(BATCH_SIZE)\n",
    "val = val.batch(BATCH_SIZE)"
   ]
  },
  {
   "cell_type": "code",
   "execution_count": 7,
   "id": "77b26cf8",
   "metadata": {
    "execution": {
     "iopub.execute_input": "2025-10-03T12:19:00.112964Z",
     "iopub.status.busy": "2025-10-03T12:19:00.112750Z",
     "iopub.status.idle": "2025-10-03T12:19:00.133825Z",
     "shell.execute_reply": "2025-10-03T12:19:00.133332Z"
    },
    "papermill": {
     "duration": 0.024854,
     "end_time": "2025-10-03T12:19:00.134860",
     "exception": false,
     "start_time": "2025-10-03T12:19:00.110006",
     "status": "completed"
    },
    "tags": []
   },
   "outputs": [],
   "source": [
    "data_augmentation = Sequential([\n",
    "    RandomFlip(\"horizontal\"),\n",
    "    RandomRotation(0.2),\n",
    "    RandomZoom(0.2),\n",
    "    RandomContrast(0.2)\n",
    "], name=\"data_augmentation\")"
   ]
  },
  {
   "cell_type": "code",
   "execution_count": 8,
   "id": "ad779f14",
   "metadata": {
    "execution": {
     "iopub.execute_input": "2025-10-03T12:19:00.140455Z",
     "iopub.status.busy": "2025-10-03T12:19:00.140253Z",
     "iopub.status.idle": "2025-10-03T12:19:03.057618Z",
     "shell.execute_reply": "2025-10-03T12:19:03.056941Z"
    },
    "papermill": {
     "duration": 2.921653,
     "end_time": "2025-10-03T12:19:03.059032",
     "exception": false,
     "start_time": "2025-10-03T12:19:00.137379",
     "status": "completed"
    },
    "tags": []
   },
   "outputs": [
    {
     "name": "stdout",
     "output_type": "stream",
     "text": [
      "Downloading data from https://storage.googleapis.com/tensorflow/keras-applications/resnet/resnet50v2_weights_tf_dim_ordering_tf_kernels_notop.h5\n",
      "\u001B[1m94668760/94668760\u001B[0m \u001B[32m━━━━━━━━━━━━━━━━━━━━\u001B[0m\u001B[37m\u001B[0m \u001B[1m0s\u001B[0m 0us/step\n"
     ]
    }
   ],
   "source": [
    "pre_trained_model = ResNet50V2(\n",
    "    include_top=False,\n",
    "    weights=\"imagenet\",\n",
    "    input_shape=(256,256,3),\n",
    "    pooling='avg'\n",
    ")\n",
    "\n",
    "pre_trained_model.trainable = True\n",
    "for layer in pre_trained_model.layers[:-20]:\n",
    "    layer.trainable = False"
   ]
  },
  {
   "cell_type": "code",
   "execution_count": 9,
   "id": "e66f05c6",
   "metadata": {
    "execution": {
     "iopub.execute_input": "2025-10-03T12:19:03.066068Z",
     "iopub.status.busy": "2025-10-03T12:19:03.065640Z",
     "iopub.status.idle": "2025-10-03T12:19:03.073413Z",
     "shell.execute_reply": "2025-10-03T12:19:03.072913Z"
    },
    "papermill": {
     "duration": 0.012212,
     "end_time": "2025-10-03T12:19:03.074427",
     "exception": false,
     "start_time": "2025-10-03T12:19:03.062215",
     "status": "completed"
    },
    "tags": []
   },
   "outputs": [],
   "source": [
    "model = Sequential([\n",
    "    data_augmentation,\n",
    "    pre_trained_model,\n",
    "    Dense(512, activation='relu'),\n",
    "    Dropout(0.4),\n",
    "    Dense(20, activation='softmax')\n",
    "])"
   ]
  },
  {
   "cell_type": "code",
   "execution_count": 10,
   "id": "39809762",
   "metadata": {
    "execution": {
     "iopub.execute_input": "2025-10-03T12:19:03.080753Z",
     "iopub.status.busy": "2025-10-03T12:19:03.080575Z",
     "iopub.status.idle": "2025-10-03T12:19:03.097620Z",
     "shell.execute_reply": "2025-10-03T12:19:03.096942Z"
    },
    "papermill": {
     "duration": 0.021316,
     "end_time": "2025-10-03T12:19:03.098599",
     "exception": false,
     "start_time": "2025-10-03T12:19:03.077283",
     "status": "completed"
    },
    "tags": []
   },
   "outputs": [
    {
     "data": {
      "text/html": [
       "<pre style=\"white-space:pre;overflow-x:auto;line-height:normal;font-family:Menlo,'DejaVu Sans Mono',consolas,'Courier New',monospace\"><span style=\"font-weight: bold\">Model: \"sequential\"</span>\n",
       "</pre>\n"
      ],
      "text/plain": [
       "\u001B[1mModel: \"sequential\"\u001B[0m\n"
      ]
     },
     "metadata": {},
     "output_type": "display_data"
    },
    {
     "data": {
      "text/html": [
       "<pre style=\"white-space:pre;overflow-x:auto;line-height:normal;font-family:Menlo,'DejaVu Sans Mono',consolas,'Courier New',monospace\">┏━━━━━━━━━━━━━━━━━━━━━━━━━━━━━━━━━┳━━━━━━━━━━━━━━━━━━━━━━━━┳━━━━━━━━━━━━━━━┓\n",
       "┃<span style=\"font-weight: bold\"> Layer (type)                    </span>┃<span style=\"font-weight: bold\"> Output Shape           </span>┃<span style=\"font-weight: bold\">       Param # </span>┃\n",
       "┡━━━━━━━━━━━━━━━━━━━━━━━━━━━━━━━━━╇━━━━━━━━━━━━━━━━━━━━━━━━╇━━━━━━━━━━━━━━━┩\n",
       "│ data_augmentation (<span style=\"color: #0087ff; text-decoration-color: #0087ff\">Sequential</span>)  │ ?                      │   <span style=\"color: #00af00; text-decoration-color: #00af00\">0</span> (unbuilt) │\n",
       "├─────────────────────────────────┼────────────────────────┼───────────────┤\n",
       "│ resnet50v2 (<span style=\"color: #0087ff; text-decoration-color: #0087ff\">Functional</span>)         │ (<span style=\"color: #00d7ff; text-decoration-color: #00d7ff\">None</span>, <span style=\"color: #00af00; text-decoration-color: #00af00\">2048</span>)           │    <span style=\"color: #00af00; text-decoration-color: #00af00\">23,564,800</span> │\n",
       "├─────────────────────────────────┼────────────────────────┼───────────────┤\n",
       "│ dense (<span style=\"color: #0087ff; text-decoration-color: #0087ff\">Dense</span>)                   │ ?                      │   <span style=\"color: #00af00; text-decoration-color: #00af00\">0</span> (unbuilt) │\n",
       "├─────────────────────────────────┼────────────────────────┼───────────────┤\n",
       "│ dropout (<span style=\"color: #0087ff; text-decoration-color: #0087ff\">Dropout</span>)               │ ?                      │             <span style=\"color: #00af00; text-decoration-color: #00af00\">0</span> │\n",
       "├─────────────────────────────────┼────────────────────────┼───────────────┤\n",
       "│ dense_1 (<span style=\"color: #0087ff; text-decoration-color: #0087ff\">Dense</span>)                 │ ?                      │   <span style=\"color: #00af00; text-decoration-color: #00af00\">0</span> (unbuilt) │\n",
       "└─────────────────────────────────┴────────────────────────┴───────────────┘\n",
       "</pre>\n"
      ],
      "text/plain": [
       "┏━━━━━━━━━━━━━━━━━━━━━━━━━━━━━━━━━┳━━━━━━━━━━━━━━━━━━━━━━━━┳━━━━━━━━━━━━━━━┓\n",
       "┃\u001B[1m \u001B[0m\u001B[1mLayer (type)                   \u001B[0m\u001B[1m \u001B[0m┃\u001B[1m \u001B[0m\u001B[1mOutput Shape          \u001B[0m\u001B[1m \u001B[0m┃\u001B[1m \u001B[0m\u001B[1m      Param #\u001B[0m\u001B[1m \u001B[0m┃\n",
       "┡━━━━━━━━━━━━━━━━━━━━━━━━━━━━━━━━━╇━━━━━━━━━━━━━━━━━━━━━━━━╇━━━━━━━━━━━━━━━┩\n",
       "│ data_augmentation (\u001B[38;5;33mSequential\u001B[0m)  │ ?                      │   \u001B[38;5;34m0\u001B[0m (unbuilt) │\n",
       "├─────────────────────────────────┼────────────────────────┼───────────────┤\n",
       "│ resnet50v2 (\u001B[38;5;33mFunctional\u001B[0m)         │ (\u001B[38;5;45mNone\u001B[0m, \u001B[38;5;34m2048\u001B[0m)           │    \u001B[38;5;34m23,564,800\u001B[0m │\n",
       "├─────────────────────────────────┼────────────────────────┼───────────────┤\n",
       "│ dense (\u001B[38;5;33mDense\u001B[0m)                   │ ?                      │   \u001B[38;5;34m0\u001B[0m (unbuilt) │\n",
       "├─────────────────────────────────┼────────────────────────┼───────────────┤\n",
       "│ dropout (\u001B[38;5;33mDropout\u001B[0m)               │ ?                      │             \u001B[38;5;34m0\u001B[0m │\n",
       "├─────────────────────────────────┼────────────────────────┼───────────────┤\n",
       "│ dense_1 (\u001B[38;5;33mDense\u001B[0m)                 │ ?                      │   \u001B[38;5;34m0\u001B[0m (unbuilt) │\n",
       "└─────────────────────────────────┴────────────────────────┴───────────────┘\n"
      ]
     },
     "metadata": {},
     "output_type": "display_data"
    },
    {
     "data": {
      "text/html": [
       "<pre style=\"white-space:pre;overflow-x:auto;line-height:normal;font-family:Menlo,'DejaVu Sans Mono',consolas,'Courier New',monospace\"><span style=\"font-weight: bold\"> Total params: </span><span style=\"color: #00af00; text-decoration-color: #00af00\">23,564,800</span> (89.89 MB)\n",
       "</pre>\n"
      ],
      "text/plain": [
       "\u001B[1m Total params: \u001B[0m\u001B[38;5;34m23,564,800\u001B[0m (89.89 MB)\n"
      ]
     },
     "metadata": {},
     "output_type": "display_data"
    },
    {
     "data": {
      "text/html": [
       "<pre style=\"white-space:pre;overflow-x:auto;line-height:normal;font-family:Menlo,'DejaVu Sans Mono',consolas,'Courier New',monospace\"><span style=\"font-weight: bold\"> Trainable params: </span><span style=\"color: #00af00; text-decoration-color: #00af00\">12,084,224</span> (46.10 MB)\n",
       "</pre>\n"
      ],
      "text/plain": [
       "\u001B[1m Trainable params: \u001B[0m\u001B[38;5;34m12,084,224\u001B[0m (46.10 MB)\n"
      ]
     },
     "metadata": {},
     "output_type": "display_data"
    },
    {
     "data": {
      "text/html": [
       "<pre style=\"white-space:pre;overflow-x:auto;line-height:normal;font-family:Menlo,'DejaVu Sans Mono',consolas,'Courier New',monospace\"><span style=\"font-weight: bold\"> Non-trainable params: </span><span style=\"color: #00af00; text-decoration-color: #00af00\">11,480,576</span> (43.79 MB)\n",
       "</pre>\n"
      ],
      "text/plain": [
       "\u001B[1m Non-trainable params: \u001B[0m\u001B[38;5;34m11,480,576\u001B[0m (43.79 MB)\n"
      ]
     },
     "metadata": {},
     "output_type": "display_data"
    }
   ],
   "source": [
    "model.summary()"
   ]
  },
  {
   "cell_type": "code",
   "execution_count": 11,
   "id": "7b8abb68",
   "metadata": {
    "execution": {
     "iopub.execute_input": "2025-10-03T12:19:03.105536Z",
     "iopub.status.busy": "2025-10-03T12:19:03.105357Z",
     "iopub.status.idle": "2025-10-03T12:19:03.117459Z",
     "shell.execute_reply": "2025-10-03T12:19:03.116922Z"
    },
    "papermill": {
     "duration": 0.016726,
     "end_time": "2025-10-03T12:19:03.118513",
     "exception": false,
     "start_time": "2025-10-03T12:19:03.101787",
     "status": "completed"
    },
    "tags": []
   },
   "outputs": [],
   "source": [
    "model.compile(\n",
    "    optimizer=tf.keras.optimizers.AdamW(learning_rate=1e-4),\n",
    "    loss='sparse_categorical_crossentropy',\n",
    "    metrics=['accuracy']\n",
    ")"
   ]
  },
  {
   "cell_type": "code",
   "execution_count": 12,
   "id": "c73abfd9",
   "metadata": {
    "execution": {
     "iopub.execute_input": "2025-10-03T12:19:03.126174Z",
     "iopub.status.busy": "2025-10-03T12:19:03.125994Z",
     "iopub.status.idle": "2025-10-03T12:19:03.130866Z",
     "shell.execute_reply": "2025-10-03T12:19:03.130384Z"
    },
    "papermill": {
     "duration": 0.009357,
     "end_time": "2025-10-03T12:19:03.131791",
     "exception": false,
     "start_time": "2025-10-03T12:19:03.122434",
     "status": "completed"
    },
    "tags": []
   },
   "outputs": [],
   "source": [
    "from tensorflow.keras.callbacks import EarlyStopping, ReduceLROnPlateau\n",
    "\n",
    "early_stopping = EarlyStopping(\n",
    "    monitor='val_loss',\n",
    "    patience=3,\n",
    "    restore_best_weights=True\n",
    ")\n",
    "\n",
    "reduce_lr = ReduceLROnPlateau(\n",
    "    monitor='val_loss',\n",
    "    factor=0.2,\n",
    "    patience=2\n",
    ")"
   ]
  },
  {
   "cell_type": "code",
   "execution_count": 13,
   "id": "dc2fea2a",
   "metadata": {
    "execution": {
     "iopub.execute_input": "2025-10-03T12:19:03.138846Z",
     "iopub.status.busy": "2025-10-03T12:19:03.138665Z",
     "iopub.status.idle": "2025-10-03T12:32:09.669243Z",
     "shell.execute_reply": "2025-10-03T12:32:09.668594Z"
    },
    "jupyter": {
     "is_executing": true
    },
    "papermill": {
     "duration": 786.535538,
     "end_time": "2025-10-03T12:32:09.670504",
     "exception": false,
     "start_time": "2025-10-03T12:19:03.134966",
     "status": "completed"
    },
    "tags": []
   },
   "outputs": [
    {
     "name": "stdout",
     "output_type": "stream",
     "text": [
      "Epoch 1/50\n"
     ]
    },
    {
     "name": "stderr",
     "output_type": "stream",
     "text": [
      "I0000 00:00:1759493974.162583      58 cuda_dnn.cc:529] Loaded cuDNN version 90300\n"
     ]
    },
    {
     "name": "stdout",
     "output_type": "stream",
     "text": [
      "\u001B[1m160/160\u001B[0m \u001B[32m━━━━━━━━━━━━━━━━━━━━\u001B[0m\u001B[37m\u001B[0m \u001B[1m67s\u001B[0m 210ms/step - accuracy: 0.5511 - loss: 1.4154 - val_accuracy: 0.8844 - val_loss: 0.3261 - learning_rate: 1.0000e-04\n",
      "Epoch 2/50\n",
      "\u001B[1m160/160\u001B[0m \u001B[32m━━━━━━━━━━━━━━━━━━━━\u001B[0m\u001B[37m\u001B[0m \u001B[1m38s\u001B[0m 190ms/step - accuracy: 0.8430 - loss: 0.4504 - val_accuracy: 0.9172 - val_loss: 0.2459 - learning_rate: 1.0000e-04\n",
      "Epoch 3/50\n",
      "\u001B[1m160/160\u001B[0m \u001B[32m━━━━━━━━━━━━━━━━━━━━\u001B[0m\u001B[37m\u001B[0m \u001B[1m39s\u001B[0m 191ms/step - accuracy: 0.8905 - loss: 0.3104 - val_accuracy: 0.9414 - val_loss: 0.1708 - learning_rate: 1.0000e-04\n",
      "Epoch 4/50\n",
      "\u001B[1m160/160\u001B[0m \u001B[32m━━━━━━━━━━━━━━━━━━━━\u001B[0m\u001B[37m\u001B[0m \u001B[1m38s\u001B[0m 191ms/step - accuracy: 0.9147 - loss: 0.2464 - val_accuracy: 0.9328 - val_loss: 0.1864 - learning_rate: 1.0000e-04\n",
      "Epoch 5/50\n",
      "\u001B[1m160/160\u001B[0m \u001B[32m━━━━━━━━━━━━━━━━━━━━\u001B[0m\u001B[37m\u001B[0m \u001B[1m38s\u001B[0m 191ms/step - accuracy: 0.9251 - loss: 0.2180 - val_accuracy: 0.9609 - val_loss: 0.1319 - learning_rate: 1.0000e-04\n",
      "Epoch 6/50\n",
      "\u001B[1m160/160\u001B[0m \u001B[32m━━━━━━━━━━━━━━━━━━━━\u001B[0m\u001B[37m\u001B[0m \u001B[1m38s\u001B[0m 188ms/step - accuracy: 0.9353 - loss: 0.1887 - val_accuracy: 0.9406 - val_loss: 0.1650 - learning_rate: 1.0000e-04\n",
      "Epoch 7/50\n",
      "\u001B[1m160/160\u001B[0m \u001B[32m━━━━━━━━━━━━━━━━━━━━\u001B[0m\u001B[37m\u001B[0m \u001B[1m38s\u001B[0m 189ms/step - accuracy: 0.9357 - loss: 0.1748 - val_accuracy: 0.9531 - val_loss: 0.1232 - learning_rate: 1.0000e-04\n",
      "Epoch 8/50\n",
      "\u001B[1m160/160\u001B[0m \u001B[32m━━━━━━━━━━━━━━━━━━━━\u001B[0m\u001B[37m\u001B[0m \u001B[1m38s\u001B[0m 191ms/step - accuracy: 0.9486 - loss: 0.1444 - val_accuracy: 0.9641 - val_loss: 0.1049 - learning_rate: 1.0000e-04\n",
      "Epoch 9/50\n",
      "\u001B[1m160/160\u001B[0m \u001B[32m━━━━━━━━━━━━━━━━━━━━\u001B[0m\u001B[37m\u001B[0m \u001B[1m38s\u001B[0m 189ms/step - accuracy: 0.9513 - loss: 0.1382 - val_accuracy: 0.9672 - val_loss: 0.0917 - learning_rate: 1.0000e-04\n",
      "Epoch 10/50\n",
      "\u001B[1m160/160\u001B[0m \u001B[32m━━━━━━━━━━━━━━━━━━━━\u001B[0m\u001B[37m\u001B[0m \u001B[1m38s\u001B[0m 190ms/step - accuracy: 0.9613 - loss: 0.1130 - val_accuracy: 0.9516 - val_loss: 0.1331 - learning_rate: 1.0000e-04\n",
      "Epoch 11/50\n",
      "\u001B[1m160/160\u001B[0m \u001B[32m━━━━━━━━━━━━━━━━━━━━\u001B[0m\u001B[37m\u001B[0m \u001B[1m38s\u001B[0m 189ms/step - accuracy: 0.9527 - loss: 0.1307 - val_accuracy: 0.9563 - val_loss: 0.1406 - learning_rate: 1.0000e-04\n",
      "Epoch 12/50\n",
      "\u001B[1m160/160\u001B[0m \u001B[32m━━━━━━━━━━━━━━━━━━━━\u001B[0m\u001B[37m\u001B[0m \u001B[1m47s\u001B[0m 224ms/step - accuracy: 0.9710 - loss: 0.0834 - val_accuracy: 0.9688 - val_loss: 0.0821 - learning_rate: 2.0000e-05\n",
      "Epoch 13/50\n",
      "\u001B[1m160/160\u001B[0m \u001B[32m━━━━━━━━━━━━━━━━━━━━\u001B[0m\u001B[37m\u001B[0m \u001B[1m46s\u001B[0m 204ms/step - accuracy: 0.9819 - loss: 0.0605 - val_accuracy: 0.9703 - val_loss: 0.0795 - learning_rate: 2.0000e-05\n",
      "Epoch 14/50\n",
      "\u001B[1m160/160\u001B[0m \u001B[32m━━━━━━━━━━━━━━━━━━━━\u001B[0m\u001B[37m\u001B[0m \u001B[1m45s\u001B[0m 209ms/step - accuracy: 0.9824 - loss: 0.0603 - val_accuracy: 0.9703 - val_loss: 0.0967 - learning_rate: 2.0000e-05\n",
      "Epoch 15/50\n",
      "\u001B[1m160/160\u001B[0m \u001B[32m━━━━━━━━━━━━━━━━━━━━\u001B[0m\u001B[37m\u001B[0m \u001B[1m44s\u001B[0m 209ms/step - accuracy: 0.9847 - loss: 0.0480 - val_accuracy: 0.9641 - val_loss: 0.0933 - learning_rate: 2.0000e-05\n",
      "Epoch 16/50\n",
      "\u001B[1m160/160\u001B[0m \u001B[32m━━━━━━━━━━━━━━━━━━━━\u001B[0m\u001B[37m\u001B[0m \u001B[1m39s\u001B[0m 190ms/step - accuracy: 0.9852 - loss: 0.0524 - val_accuracy: 0.9781 - val_loss: 0.0611 - learning_rate: 4.0000e-06\n",
      "Epoch 17/50\n",
      "\u001B[1m160/160\u001B[0m \u001B[32m━━━━━━━━━━━━━━━━━━━━\u001B[0m\u001B[37m\u001B[0m \u001B[1m38s\u001B[0m 190ms/step - accuracy: 0.9851 - loss: 0.0435 - val_accuracy: 0.9695 - val_loss: 0.0719 - learning_rate: 4.0000e-06\n",
      "Epoch 18/50\n",
      "\u001B[1m160/160\u001B[0m \u001B[32m━━━━━━━━━━━━━━━━━━━━\u001B[0m\u001B[37m\u001B[0m \u001B[1m38s\u001B[0m 188ms/step - accuracy: 0.9866 - loss: 0.0401 - val_accuracy: 0.9734 - val_loss: 0.0725 - learning_rate: 4.0000e-06\n",
      "Epoch 19/50\n",
      "\u001B[1m160/160\u001B[0m \u001B[32m━━━━━━━━━━━━━━━━━━━━\u001B[0m\u001B[37m\u001B[0m \u001B[1m38s\u001B[0m 189ms/step - accuracy: 0.9808 - loss: 0.0512 - val_accuracy: 0.9703 - val_loss: 0.0722 - learning_rate: 8.0000e-07\n"
     ]
    }
   ],
   "source": [
    "resnet = model.fit(\n",
    "    train,\n",
    "    epochs=50,\n",
    "    validation_data=val,\n",
    "    callbacks=[early_stopping, reduce_lr]\n",
    ")"
   ]
  },
  {
   "cell_type": "code",
   "execution_count": 14,
   "id": "53eeff4a",
   "metadata": {
    "execution": {
     "iopub.execute_input": "2025-10-03T12:32:09.977841Z",
     "iopub.status.busy": "2025-10-03T12:32:09.977561Z",
     "iopub.status.idle": "2025-10-03T12:32:16.067236Z",
     "shell.execute_reply": "2025-10-03T12:32:16.066593Z"
    },
    "papermill": {
     "duration": 6.218961,
     "end_time": "2025-10-03T12:32:16.068323",
     "exception": false,
     "start_time": "2025-10-03T12:32:09.849362",
     "status": "completed"
    },
    "tags": []
   },
   "outputs": [
    {
     "name": "stdout",
     "output_type": "stream",
     "text": [
      "\u001B[1m50/50\u001B[0m \u001B[32m━━━━━━━━━━━━━━━━━━━━\u001B[0m\u001B[37m\u001B[0m \u001B[1m6s\u001B[0m 76ms/step\n"
     ]
    },
    {
     "data": {
      "text/html": [
       "<div>\n",
       "<style scoped>\n",
       "    .dataframe tbody tr th:only-of-type {\n",
       "        vertical-align: middle;\n",
       "    }\n",
       "\n",
       "    .dataframe tbody tr th {\n",
       "        vertical-align: top;\n",
       "    }\n",
       "\n",
       "    .dataframe thead th {\n",
       "        text-align: right;\n",
       "    }\n",
       "</style>\n",
       "<table border=\"1\" class=\"dataframe\">\n",
       "  <thead>\n",
       "    <tr style=\"text-align: right;\">\n",
       "      <th></th>\n",
       "      <th>ID</th>\n",
       "      <th>TARGET</th>\n",
       "    </tr>\n",
       "  </thead>\n",
       "  <tbody>\n",
       "    <tr>\n",
       "      <th>0</th>\n",
       "      <td>0000.jpg</td>\n",
       "      <td>KARACADAG</td>\n",
       "    </tr>\n",
       "    <tr>\n",
       "      <th>1</th>\n",
       "      <td>0001.jpg</td>\n",
       "      <td>BRRI67</td>\n",
       "    </tr>\n",
       "    <tr>\n",
       "      <th>2</th>\n",
       "      <td>0002.jpg</td>\n",
       "      <td>BINADHAN16</td>\n",
       "    </tr>\n",
       "    <tr>\n",
       "      <th>3</th>\n",
       "      <td>0003.jpg</td>\n",
       "      <td>BINADHAN16</td>\n",
       "    </tr>\n",
       "    <tr>\n",
       "      <th>4</th>\n",
       "      <td>0004.jpg</td>\n",
       "      <td>KARACADAG</td>\n",
       "    </tr>\n",
       "  </tbody>\n",
       "</table>\n",
       "</div>"
      ],
      "text/plain": [
       "         ID      TARGET\n",
       "0  0000.jpg   KARACADAG\n",
       "1  0001.jpg      BRRI67\n",
       "2  0002.jpg  BINADHAN16\n",
       "3  0003.jpg  BINADHAN16\n",
       "4  0004.jpg   KARACADAG"
      ]
     },
     "execution_count": 14,
     "metadata": {},
     "output_type": "execute_result"
    }
   ],
   "source": [
    "test_dir = '/kaggle/input/rice-pistachio-and-grapevine-leaf-classification/test/test'\n",
    "test_filepaths = sorted([os.path.join(test_dir, fname) for fname in os.listdir(test_dir)])\n",
    "\n",
    "def load_test(filepath):\n",
    "    img = tf.io.read_file(filepath)\n",
    "    img = tf.io.decode_image(img, channels=3)\n",
    "    img.set_shape([None, None, 3])\n",
    "    img = tf.image.resize(img, (256, 256))\n",
    "    img = img / 255.0\n",
    "    return img\n",
    "\n",
    "test_ds = tf.data.Dataset.from_tensor_slices(test_filepaths)\n",
    "test_ds = test_ds.map(load_test).batch(32)\n",
    "\n",
    "predictions = model.predict(test_ds, verbose=1)\n",
    "predicted_class_indices = np.argmax(predictions, axis=1)\n",
    "predicted_labels = [int_to_class[i] for i in predicted_class_indices]\n",
    "file_names = [os.path.basename(p) for p in test_filepaths]\n",
    "submission_df = pd.DataFrame({\n",
    "    'ID': file_names,\n",
    "    'TARGET': predicted_labels\n",
    "})\n",
    "\n",
    "submission_df.to_csv('submission.csv', index=False)\n",
    "submission_df.head()"
   ]
  }
 ],
 "metadata": {
  "kaggle": {
   "accelerator": "gpu",
   "dataSources": [
    {
     "databundleVersionId": 13778912,
     "sourceId": 112017,
     "sourceType": "competition"
    }
   ],
   "dockerImageVersionId": 31090,
   "isGpuEnabled": true,
   "isInternetEnabled": true,
   "language": "python",
   "sourceType": "notebook"
  },
  "kernelspec": {
   "display_name": "Python 3",
   "language": "python",
   "name": "python3"
  },
  "language_info": {
   "codemirror_mode": {
    "name": "ipython",
    "version": 3
   },
   "file_extension": ".py",
   "mimetype": "text/x-python",
   "name": "python",
   "nbconvert_exporter": "python",
   "pygments_lexer": "ipython3",
   "version": "3.11.13"
  },
  "papermill": {
   "default_parameters": {},
   "duration": 819.62815,
   "end_time": "2025-10-03T12:32:19.892003",
   "environment_variables": {},
   "exception": null,
   "input_path": "__notebook__.ipynb",
   "output_path": "__notebook__.ipynb",
   "parameters": {},
   "start_time": "2025-10-03T12:18:40.263853",
   "version": "2.6.0"
  }
 },
 "nbformat": 4,
 "nbformat_minor": 5
}
